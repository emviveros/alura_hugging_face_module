{
  "cells": [
    {
      "cell_type": "markdown",
      "metadata": {
        "id": "rI8QYgz8rKtx"
      },
      "source": [
        "# **Aula 1: Analisando sentimentos**"
      ]
    },
    {
      "cell_type": "markdown",
      "metadata": {
        "id": "9069rjLjrRHq"
      },
      "source": [
        "## **Classificando sentimentos**"
      ]
    },
    {
      "cell_type": "markdown",
      "metadata": {
        "id": "TzIJs_r7rTTB"
      },
      "source": [
        "Modelo: [DistilBERT base uncased finetuned SST-2](https://huggingface.co/distilbert/distilbert-base-uncased-finetuned-sst-2-english)"
      ]
    },
    {
      "cell_type": "code",
      "execution_count": 1,
      "metadata": {
        "id": "_G76DCx8GFhv"
      },
      "outputs": [
        {
          "name": "stdout",
          "output_type": "stream",
          "text": [
            "Using device: mps\n"
          ]
        }
      ],
      "source": [
        "import os\n",
        "import torch\n",
        "from transformers import pipeline\n",
        "\n",
        "if torch.backends.mps.is_available():\n",
        "    os.environ[\"PYTORCH_ENABLE_MPS_FALLBACK\"] = \"1\"\n",
        "    os.environ[\"USE_MPS\"] = \"1\"\n",
        "    os.environ[\"TOKENIZERS_PARALLELISM\"] = \"false\"\n",
        "    os.environ[\"PYTORCH_MPS_DEVICE_OVERRIDE\"] = \"1\"\n",
        "    device = torch.device('mps')\n",
        "    torch.set_default_device(device)\n",
        "    print(f\"Using device: {device}\")\n",
        "else:\n",
        "    device = torch.device('cpu')\n",
        "    torch.set_default_device(device)\n",
        "    print(f\"Using device: {device}\")\n"
      ]
    },
    {
      "cell_type": "code",
      "execution_count": 2,
      "metadata": {
        "id": "UB1imT0sQ3aY"
      },
      "outputs": [],
      "source": [
        "classificador_sentimento = pipeline('sentiment-analysis', \n",
        "                                   model='distilbert-base-uncased-finetuned-sst-2-english', \n",
        "                                   device=device)"
      ]
    },
    {
      "cell_type": "code",
      "execution_count": 3,
      "metadata": {
        "colab": {
          "base_uri": "https://localhost:8080/"
        },
        "id": "QMGJeXBuRb2G",
        "outputId": "3c23da83-7c9a-45bc-9770-4e502c80250a"
      },
      "outputs": [
        {
          "data": {
            "text/plain": [
              "[{'label': 'POSITIVE', 'score': 0.9998788833618164}]"
            ]
          },
          "execution_count": 3,
          "metadata": {},
          "output_type": "execute_result"
        }
      ],
      "source": [
        "classificador_sentimento('I love this product')"
      ]
    },
    {
      "cell_type": "code",
      "execution_count": 4,
      "metadata": {
        "colab": {
          "base_uri": "https://localhost:8080/"
        },
        "id": "3f2J3KcpR2vg",
        "outputId": "4a44d8db-e3d8-4327-b334-4ae182c77a91"
      },
      "outputs": [
        {
          "data": {
            "text/plain": [
              "[{'label': 'NEGATIVE', 'score': 0.9998010993003845}]"
            ]
          },
          "execution_count": 4,
          "metadata": {},
          "output_type": "execute_result"
        }
      ],
      "source": [
        "classificador_sentimento('I am totally disappointed with this product')"
      ]
    },
    {
      "cell_type": "markdown",
      "metadata": {
        "id": "SOmbcztSrcab"
      },
      "source": [
        "## **Selecionando o modelo**"
      ]
    },
    {
      "cell_type": "markdown",
      "metadata": {
        "id": "E4Yh1A3ArfI1"
      },
      "source": [
        "Modelo: [pysentimiento/bertweet-pt-sentiment](https://huggingface.co/pysentimiento/bertweet-pt-sentiment)"
      ]
    },
    {
      "cell_type": "code",
      "execution_count": 5,
      "metadata": {
        "id": "U_zZqt28UwMj"
      },
      "outputs": [],
      "source": [
        "from pysentimiento import create_analyzer"
      ]
    },
    {
      "cell_type": "code",
      "execution_count": 6,
      "metadata": {},
      "outputs": [],
      "source": [
        "def create_model():\n",
        "    device = torch.device('mps' if torch.backends.mps.is_available() else 'cpu')\n",
        "    model = create_analyzer(\n",
        "        task='sentiment',\n",
        "        lang='pt',\n",
        "        device=device\n",
        "    )\n",
        "    model.model.to(device)\n",
        "    model.tokenizer.model_max_length = 512\n",
        "    return model\n",
        "\n",
        "modelo_analise_sentimento = create_model()"
      ]
    },
    {
      "cell_type": "code",
      "execution_count": 7,
      "metadata": {
        "id": "RvWhYqFyVaRr"
      },
      "outputs": [],
      "source": [
        "modelo_analise_sentimento = create_analyzer(task='sentiment', \n",
        "                                           lang='pt',\n",
        "                                           device=\"mps\")"
      ]
    },
    {
      "cell_type": "code",
      "execution_count": 8,
      "metadata": {
        "id": "oXyOdHK0VvJq"
      },
      "outputs": [
        {
          "data": {
            "text/plain": [
              "AnalyzerOutput(output=POS, probas={POS: 0.989, NEU: 0.009, NEG: 0.002})"
            ]
          },
          "execution_count": 8,
          "metadata": {},
          "output_type": "execute_result"
        }
      ],
      "source": [
        "modelo_analise_sentimento.predict('''\n",
        "A fritadeira é sensacional, muito além do que imaginava. É linda, super funcional e muito fácil de manusear.\n",
        "Fácil de limpar e potente. Super recomendo.\n",
        "''')"
      ]
    },
    {
      "cell_type": "code",
      "execution_count": 9,
      "metadata": {
        "id": "gniA1US9WA7k"
      },
      "outputs": [
        {
          "data": {
            "text/plain": [
              "AnalyzerOutput(output=NEU, probas={NEU: 0.921, NEG: 0.065, POS: 0.014})"
            ]
          },
          "execution_count": 9,
          "metadata": {},
          "output_type": "execute_result"
        }
      ],
      "source": [
        "modelo_analise_sentimento.predict('''\n",
        "Após poucos meses de uso a carcaça de aço escovado começou a oxidar,\n",
        "demonstrando a baixa qualidade de proteção. Fora esse detalhe, o produto cumpre o prometido.\n",
        "'''\n",
        ")"
      ]
    },
    {
      "cell_type": "code",
      "execution_count": 10,
      "metadata": {
        "id": "zfdxemJIWnT5"
      },
      "outputs": [
        {
          "data": {
            "text/plain": [
              "AnalyzerOutput(output=NEG, probas={NEG: 0.935, NEU: 0.056, POS: 0.009})"
            ]
          },
          "execution_count": 10,
          "metadata": {},
          "output_type": "execute_result"
        }
      ],
      "source": [
        "modelo_analise_sentimento.predict('''\n",
        "Em menos de 1 ano parou de funcionar, enviei para assistência técnica por estar na garantia,\n",
        "trocaram o motor, passou a ficar menos potente e não durou 2 utilizações.\n",
        "Isso se repetiu várias vezes, até que desisti de ficar levando lá e queimando de novo em seguida,\n",
        "vi outros clientes com o mesmo problema. Não comprem!!\n",
        "'''\n",
        ")"
      ]
    },
    {
      "cell_type": "markdown",
      "metadata": {
        "id": "yDBg6_KzrzrS"
      },
      "source": [
        "## **Aplicando o modelo aos dados**"
      ]
    },
    {
      "cell_type": "code",
      "execution_count": 11,
      "metadata": {
        "id": "ph6cjuKrW_jS"
      },
      "outputs": [],
      "source": [
        "import pandas as pd"
      ]
    },
    {
      "cell_type": "code",
      "execution_count": 12,
      "metadata": {
        "id": "66Kxdui2YK15"
      },
      "outputs": [],
      "source": [
        "dados = pd.read_csv('https://raw.githubusercontent.com/alura-cursos/hugging_face/main/Dados/resenhas.csv')"
      ]
    },
    {
      "cell_type": "code",
      "execution_count": 13,
      "metadata": {},
      "outputs": [
        {
          "data": {
            "text/html": [
              "<div>\n",
              "<style scoped>\n",
              "    .dataframe tbody tr th:only-of-type {\n",
              "        vertical-align: middle;\n",
              "    }\n",
              "\n",
              "    .dataframe tbody tr th {\n",
              "        vertical-align: top;\n",
              "    }\n",
              "\n",
              "    .dataframe thead th {\n",
              "        text-align: right;\n",
              "    }\n",
              "</style>\n",
              "<table border=\"1\" class=\"dataframe\">\n",
              "  <thead>\n",
              "    <tr style=\"text-align: right;\">\n",
              "      <th></th>\n",
              "      <th>ID</th>\n",
              "      <th>Resenha</th>\n",
              "    </tr>\n",
              "  </thead>\n",
              "  <tbody>\n",
              "    <tr>\n",
              "      <th>0</th>\n",
              "      <td>24</td>\n",
              "      <td>A fritadeira é sensacional, muito além do que ...</td>\n",
              "    </tr>\n",
              "    <tr>\n",
              "      <th>1</th>\n",
              "      <td>733</td>\n",
              "      <td>Após usar o produto, achei-o fácil e muito efi...</td>\n",
              "    </tr>\n",
              "    <tr>\n",
              "      <th>2</th>\n",
              "      <td>865</td>\n",
              "      <td>Muito funcional, prática e moderna.</td>\n",
              "    </tr>\n",
              "    <tr>\n",
              "      <th>3</th>\n",
              "      <td>809</td>\n",
              "      <td>Boa, mas não das melhores pois a frente de vid...</td>\n",
              "    </tr>\n",
              "    <tr>\n",
              "      <th>4</th>\n",
              "      <td>628</td>\n",
              "      <td>Eu comecei a usar e é bem espaçosa. Gostei poi...</td>\n",
              "    </tr>\n",
              "    <tr>\n",
              "      <th>5</th>\n",
              "      <td>657</td>\n",
              "      <td>Usei ela algumas vezes já, muito silenciosa, l...</td>\n",
              "    </tr>\n",
              "    <tr>\n",
              "      <th>6</th>\n",
              "      <td>182</td>\n",
              "      <td>Superou minhas expectativas, por enquanto tudo...</td>\n",
              "    </tr>\n",
              "    <tr>\n",
              "      <th>7</th>\n",
              "      <td>815</td>\n",
              "      <td>Chegou no prazo. Amei, é muito linda. Não vejo...</td>\n",
              "    </tr>\n",
              "    <tr>\n",
              "      <th>8</th>\n",
              "      <td>343</td>\n",
              "      <td>Estou muito satisfeito com a negociação, receb...</td>\n",
              "    </tr>\n",
              "    <tr>\n",
              "      <th>9</th>\n",
              "      <td>624</td>\n",
              "      <td>Lindaaaa amei super indico</td>\n",
              "    </tr>\n",
              "    <tr>\n",
              "      <th>10</th>\n",
              "      <td>365</td>\n",
              "      <td>A fritadeira é ok, mas desde os primeiros dias...</td>\n",
              "    </tr>\n",
              "    <tr>\n",
              "      <th>11</th>\n",
              "      <td>543</td>\n",
              "      <td>O produto em si é bom, porém oxida, infelizmen...</td>\n",
              "    </tr>\n",
              "    <tr>\n",
              "      <th>12</th>\n",
              "      <td>62</td>\n",
              "      <td>Infelizmente começa a enferrujar do nada. pelo...</td>\n",
              "    </tr>\n",
              "    <tr>\n",
              "      <th>13</th>\n",
              "      <td>690</td>\n",
              "      <td>Beleza, mas não muito eficaz como na propaganda</td>\n",
              "    </tr>\n",
              "    <tr>\n",
              "      <th>14</th>\n",
              "      <td>909</td>\n",
              "      <td>Comprei o produto de uma marca mais confiável,...</td>\n",
              "    </tr>\n",
              "    <tr>\n",
              "      <th>15</th>\n",
              "      <td>766</td>\n",
              "      <td>Com 5 meses de uso percebi que tinha locais en...</td>\n",
              "    </tr>\n",
              "    <tr>\n",
              "      <th>16</th>\n",
              "      <td>614</td>\n",
              "      <td>Horrível! Começou a enferrujar a parte externa...</td>\n",
              "    </tr>\n",
              "    <tr>\n",
              "      <th>17</th>\n",
              "      <td>452</td>\n",
              "      <td>Gostei, só que não está com 3 meses e ela já e...</td>\n",
              "    </tr>\n",
              "    <tr>\n",
              "      <th>18</th>\n",
              "      <td>735</td>\n",
              "      <td>Além de enferrujar, estourou o vidro do nada</td>\n",
              "    </tr>\n",
              "    <tr>\n",
              "      <th>19</th>\n",
              "      <td>135</td>\n",
              "      <td>O aparelho é bom e funciona bem, mas o acabame...</td>\n",
              "    </tr>\n",
              "    <tr>\n",
              "      <th>20</th>\n",
              "      <td>395</td>\n",
              "      <td>Ruim!!!Enferruja rápido. Até na tampa, onde em...</td>\n",
              "    </tr>\n",
              "    <tr>\n",
              "      <th>21</th>\n",
              "      <td>987</td>\n",
              "      <td>O produto em si é bom, mas com um mês de uso r...</td>\n",
              "    </tr>\n",
              "    <tr>\n",
              "      <th>22</th>\n",
              "      <td>504</td>\n",
              "      <td>Realmente, para assar ela é maravilhosa, entre...</td>\n",
              "    </tr>\n",
              "    <tr>\n",
              "      <th>23</th>\n",
              "      <td>405</td>\n",
              "      <td>Conforme relatado por outras pessoas, o acabam...</td>\n",
              "    </tr>\n",
              "    <tr>\n",
              "      <th>24</th>\n",
              "      <td>647</td>\n",
              "      <td>Com o tempo vai ficando feia. A aparencia, o i...</td>\n",
              "    </tr>\n",
              "    <tr>\n",
              "      <th>25</th>\n",
              "      <td>503</td>\n",
              "      <td>Estou totalmente decepcionada com esta compra.</td>\n",
              "    </tr>\n",
              "    <tr>\n",
              "      <th>26</th>\n",
              "      <td>123</td>\n",
              "      <td>Material horrível, arrependido dessa compra. N...</td>\n",
              "    </tr>\n",
              "    <tr>\n",
              "      <th>27</th>\n",
              "      <td>771</td>\n",
              "      <td>Produto com 4 meses de uso enferrujou, na hora...</td>\n",
              "    </tr>\n",
              "    <tr>\n",
              "      <th>28</th>\n",
              "      <td>121</td>\n",
              "      <td>Não recomendo esse aparelho! Atende bem as fun...</td>\n",
              "    </tr>\n",
              "    <tr>\n",
              "      <th>29</th>\n",
              "      <td>437</td>\n",
              "      <td>Ela pode ser boa, mas a qualidade do material ...</td>\n",
              "    </tr>\n",
              "    <tr>\n",
              "      <th>30</th>\n",
              "      <td>847</td>\n",
              "      <td>Linda em design, ótimos funcionamento, porém o...</td>\n",
              "    </tr>\n",
              "    <tr>\n",
              "      <th>31</th>\n",
              "      <td>47</td>\n",
              "      <td>Achei bem boa e super fácil de usar! Recomendo</td>\n",
              "    </tr>\n",
              "    <tr>\n",
              "      <th>32</th>\n",
              "      <td>462</td>\n",
              "      <td>Muito boa! Me ajuda muito, não precisamos vira...</td>\n",
              "    </tr>\n",
              "    <tr>\n",
              "      <th>33</th>\n",
              "      <td>21</td>\n",
              "      <td>Aparelho bom, mas a sua tampa enferrujou muito...</td>\n",
              "    </tr>\n",
              "    <tr>\n",
              "      <th>34</th>\n",
              "      <td>202</td>\n",
              "      <td>Estou usando há 10 dias, funciona muito bem at...</td>\n",
              "    </tr>\n",
              "    <tr>\n",
              "      <th>35</th>\n",
              "      <td>284</td>\n",
              "      <td>Design moderno, excelente a proposta dupla de ...</td>\n",
              "    </tr>\n",
              "  </tbody>\n",
              "</table>\n",
              "</div>"
            ],
            "text/plain": [
              "     ID                                            Resenha\n",
              "0    24  A fritadeira é sensacional, muito além do que ...\n",
              "1   733  Após usar o produto, achei-o fácil e muito efi...\n",
              "2   865                Muito funcional, prática e moderna.\n",
              "3   809  Boa, mas não das melhores pois a frente de vid...\n",
              "4   628  Eu comecei a usar e é bem espaçosa. Gostei poi...\n",
              "5   657  Usei ela algumas vezes já, muito silenciosa, l...\n",
              "6   182  Superou minhas expectativas, por enquanto tudo...\n",
              "7   815  Chegou no prazo. Amei, é muito linda. Não vejo...\n",
              "8   343  Estou muito satisfeito com a negociação, receb...\n",
              "9   624                         Lindaaaa amei super indico\n",
              "10  365  A fritadeira é ok, mas desde os primeiros dias...\n",
              "11  543  O produto em si é bom, porém oxida, infelizmen...\n",
              "12   62  Infelizmente começa a enferrujar do nada. pelo...\n",
              "13  690    Beleza, mas não muito eficaz como na propaganda\n",
              "14  909  Comprei o produto de uma marca mais confiável,...\n",
              "15  766  Com 5 meses de uso percebi que tinha locais en...\n",
              "16  614  Horrível! Começou a enferrujar a parte externa...\n",
              "17  452  Gostei, só que não está com 3 meses e ela já e...\n",
              "18  735       Além de enferrujar, estourou o vidro do nada\n",
              "19  135  O aparelho é bom e funciona bem, mas o acabame...\n",
              "20  395  Ruim!!!Enferruja rápido. Até na tampa, onde em...\n",
              "21  987  O produto em si é bom, mas com um mês de uso r...\n",
              "22  504  Realmente, para assar ela é maravilhosa, entre...\n",
              "23  405  Conforme relatado por outras pessoas, o acabam...\n",
              "24  647  Com o tempo vai ficando feia. A aparencia, o i...\n",
              "25  503     Estou totalmente decepcionada com esta compra.\n",
              "26  123  Material horrível, arrependido dessa compra. N...\n",
              "27  771  Produto com 4 meses de uso enferrujou, na hora...\n",
              "28  121  Não recomendo esse aparelho! Atende bem as fun...\n",
              "29  437  Ela pode ser boa, mas a qualidade do material ...\n",
              "30  847  Linda em design, ótimos funcionamento, porém o...\n",
              "31   47     Achei bem boa e super fácil de usar! Recomendo\n",
              "32  462  Muito boa! Me ajuda muito, não precisamos vira...\n",
              "33   21  Aparelho bom, mas a sua tampa enferrujou muito...\n",
              "34  202  Estou usando há 10 dias, funciona muito bem at...\n",
              "35  284  Design moderno, excelente a proposta dupla de ..."
            ]
          },
          "execution_count": 13,
          "metadata": {},
          "output_type": "execute_result"
        }
      ],
      "source": [
        "dados"
      ]
    },
    {
      "cell_type": "code",
      "execution_count": 14,
      "metadata": {},
      "outputs": [],
      "source": [
        "# # Falha retornando erro: RuntimeError: Placeholder storage has not been allocated on MPS device!\n",
        "# # Parece que o método predict não está funcionando com o MPS quando opera em lotes, mas de forma individual funciona.\n",
        "\n",
        "# resultados_previsao = modelo_analise_sentimento.predict(dados['Resenha'])\n",
        "# resultados_previsao"
      ]
    },
    {
      "cell_type": "code",
      "execution_count": 20,
      "metadata": {
        "id": "umNM3AiZYYIw"
      },
      "outputs": [
        {
          "name": "stdout",
          "output_type": "stream",
          "text": [
            "Device selected: mps\n"
          ]
        },
        {
          "data": {
            "text/plain": [
              "[AnalyzerOutput(output=POS, probas={POS: 0.989, NEU: 0.009, NEG: 0.002}),\n",
              " AnalyzerOutput(output=POS, probas={POS: 0.670, NEU: 0.320, NEG: 0.011}),\n",
              " AnalyzerOutput(output=POS, probas={POS: 0.900, NEU: 0.097, NEG: 0.003}),\n",
              " AnalyzerOutput(output=NEG, probas={NEG: 0.731, NEU: 0.259, POS: 0.010}),\n",
              " AnalyzerOutput(output=POS, probas={POS: 0.976, NEU: 0.021, NEG: 0.003}),\n",
              " AnalyzerOutput(output=POS, probas={POS: 0.956, NEU: 0.037, NEG: 0.007}),\n",
              " AnalyzerOutput(output=POS, probas={POS: 0.838, NEU: 0.093, NEG: 0.069}),\n",
              " AnalyzerOutput(output=POS, probas={POS: 0.990, NEU: 0.008, NEG: 0.002}),\n",
              " AnalyzerOutput(output=POS, probas={POS: 0.961, NEU: 0.036, NEG: 0.003}),\n",
              " AnalyzerOutput(output=POS, probas={POS: 0.990, NEU: 0.007, NEG: 0.003}),\n",
              " AnalyzerOutput(output=NEG, probas={NEG: 0.896, NEU: 0.100, POS: 0.004}),\n",
              " AnalyzerOutput(output=NEG, probas={NEG: 0.990, NEU: 0.008, POS: 0.003}),\n",
              " AnalyzerOutput(output=NEG, probas={NEG: 0.985, NEU: 0.011, POS: 0.003}),\n",
              " AnalyzerOutput(output=NEU, probas={NEU: 0.599, POS: 0.247, NEG: 0.154}),\n",
              " AnalyzerOutput(output=NEG, probas={NEG: 0.988, NEU: 0.008, POS: 0.004}),\n",
              " AnalyzerOutput(output=NEG, probas={NEG: 0.841, NEU: 0.143, POS: 0.016}),\n",
              " AnalyzerOutput(output=NEG, probas={NEG: 0.991, NEU: 0.007, POS: 0.002}),\n",
              " AnalyzerOutput(output=NEU, probas={NEU: 0.518, POS: 0.306, NEG: 0.176}),\n",
              " AnalyzerOutput(output=NEG, probas={NEG: 0.907, NEU: 0.085, POS: 0.008}),\n",
              " AnalyzerOutput(output=NEG, probas={NEG: 0.963, NEU: 0.031, POS: 0.006}),\n",
              " AnalyzerOutput(output=NEU, probas={NEU: 0.723, NEG: 0.251, POS: 0.026}),\n",
              " AnalyzerOutput(output=NEG, probas={NEG: 0.984, NEU: 0.009, POS: 0.007}),\n",
              " AnalyzerOutput(output=NEG, probas={NEG: 0.520, POS: 0.370, NEU: 0.110}),\n",
              " AnalyzerOutput(output=NEG, probas={NEG: 0.988, NEU: 0.008, POS: 0.004}),\n",
              " AnalyzerOutput(output=NEG, probas={NEG: 0.993, NEU: 0.004, POS: 0.003}),\n",
              " AnalyzerOutput(output=NEG, probas={NEG: 0.993, NEU: 0.004, POS: 0.003}),\n",
              " AnalyzerOutput(output=NEG, probas={NEG: 0.992, NEU: 0.005, POS: 0.003}),\n",
              " AnalyzerOutput(output=NEG, probas={NEG: 0.868, NEU: 0.120, POS: 0.013}),\n",
              " AnalyzerOutput(output=NEG, probas={NEG: 0.968, NEU: 0.027, POS: 0.005}),\n",
              " AnalyzerOutput(output=NEG, probas={NEG: 0.715, POS: 0.163, NEU: 0.122}),\n",
              " AnalyzerOutput(output=NEG, probas={NEG: 0.969, POS: 0.019, NEU: 0.013}),\n",
              " AnalyzerOutput(output=POS, probas={POS: 0.987, NEU: 0.011, NEG: 0.002}),\n",
              " AnalyzerOutput(output=POS, probas={POS: 0.845, NEU: 0.081, NEG: 0.073}),\n",
              " AnalyzerOutput(output=NEU, probas={NEU: 0.656, NEG: 0.332, POS: 0.013}),\n",
              " AnalyzerOutput(output=POS, probas={POS: 0.885, NEU: 0.105, NEG: 0.011}),\n",
              " AnalyzerOutput(output=POS, probas={POS: 0.993, NEU: 0.006, NEG: 0.002})]"
            ]
          },
          "execution_count": 20,
          "metadata": {},
          "output_type": "execute_result"
        }
      ],
      "source": [
        "print(f'Device selected: {device}')\n",
        "# Processa as previsões diretamente\n",
        "# O device já foi configurado na criação do modelo (create_analyzer)\n",
        "\n",
        "def process_reviews_safe(reviews):\n",
        "    results = []\n",
        "    for text in reviews:\n",
        "        try:\n",
        "            result = modelo_analise_sentimento.predict(text)\n",
        "            results.append(result)\n",
        "        except Exception as e:\n",
        "            print(f\"Error processing text: {e}\")\n",
        "            continue\n",
        "    return results\n",
        "\n",
        "# Process reviews one by one\n",
        "resultados_previsao = process_reviews_safe(dados['Resenha'])\n",
        "resultados_previsao"
      ]
    },
    {
      "cell_type": "code",
      "execution_count": 16,
      "metadata": {
        "id": "jH162dvYY7GI"
      },
      "outputs": [],
      "source": [
        "sentimento = []\n",
        "\n",
        "for resultado in resultados_previsao:\n",
        "  sentimento.append(resultado.output)"
      ]
    },
    {
      "cell_type": "code",
      "execution_count": 17,
      "metadata": {
        "id": "_KUdmDXjZW0W"
      },
      "outputs": [
        {
          "data": {
            "text/plain": [
              "['POS',\n",
              " 'POS',\n",
              " 'POS',\n",
              " 'NEG',\n",
              " 'POS',\n",
              " 'POS',\n",
              " 'POS',\n",
              " 'POS',\n",
              " 'POS',\n",
              " 'POS',\n",
              " 'NEG',\n",
              " 'NEG',\n",
              " 'NEG',\n",
              " 'NEU',\n",
              " 'NEG',\n",
              " 'NEG',\n",
              " 'NEG',\n",
              " 'NEU',\n",
              " 'NEG',\n",
              " 'NEG',\n",
              " 'NEU',\n",
              " 'NEG',\n",
              " 'NEG',\n",
              " 'NEG',\n",
              " 'NEG',\n",
              " 'NEG',\n",
              " 'NEG',\n",
              " 'NEG',\n",
              " 'NEG',\n",
              " 'NEG',\n",
              " 'NEG',\n",
              " 'POS',\n",
              " 'POS',\n",
              " 'NEU',\n",
              " 'POS',\n",
              " 'POS']"
            ]
          },
          "execution_count": 17,
          "metadata": {},
          "output_type": "execute_result"
        }
      ],
      "source": [
        "sentimento"
      ]
    },
    {
      "cell_type": "code",
      "execution_count": 18,
      "metadata": {
        "id": "-QMIl8LpZcG-"
      },
      "outputs": [],
      "source": [
        "dados['Sentimento'] = sentimento"
      ]
    },
    {
      "cell_type": "code",
      "execution_count": 19,
      "metadata": {
        "id": "k4kq5FReZlhe"
      },
      "outputs": [
        {
          "data": {
            "text/html": [
              "<div>\n",
              "<style scoped>\n",
              "    .dataframe tbody tr th:only-of-type {\n",
              "        vertical-align: middle;\n",
              "    }\n",
              "\n",
              "    .dataframe tbody tr th {\n",
              "        vertical-align: top;\n",
              "    }\n",
              "\n",
              "    .dataframe thead th {\n",
              "        text-align: right;\n",
              "    }\n",
              "</style>\n",
              "<table border=\"1\" class=\"dataframe\">\n",
              "  <thead>\n",
              "    <tr style=\"text-align: right;\">\n",
              "      <th></th>\n",
              "      <th>ID</th>\n",
              "      <th>Resenha</th>\n",
              "      <th>Sentimento</th>\n",
              "    </tr>\n",
              "  </thead>\n",
              "  <tbody>\n",
              "    <tr>\n",
              "      <th>0</th>\n",
              "      <td>24</td>\n",
              "      <td>A fritadeira é sensacional, muito além do que ...</td>\n",
              "      <td>POS</td>\n",
              "    </tr>\n",
              "    <tr>\n",
              "      <th>1</th>\n",
              "      <td>733</td>\n",
              "      <td>Após usar o produto, achei-o fácil e muito efi...</td>\n",
              "      <td>POS</td>\n",
              "    </tr>\n",
              "    <tr>\n",
              "      <th>2</th>\n",
              "      <td>865</td>\n",
              "      <td>Muito funcional, prática e moderna.</td>\n",
              "      <td>POS</td>\n",
              "    </tr>\n",
              "    <tr>\n",
              "      <th>3</th>\n",
              "      <td>809</td>\n",
              "      <td>Boa, mas não das melhores pois a frente de vid...</td>\n",
              "      <td>NEG</td>\n",
              "    </tr>\n",
              "    <tr>\n",
              "      <th>4</th>\n",
              "      <td>628</td>\n",
              "      <td>Eu comecei a usar e é bem espaçosa. Gostei poi...</td>\n",
              "      <td>POS</td>\n",
              "    </tr>\n",
              "    <tr>\n",
              "      <th>5</th>\n",
              "      <td>657</td>\n",
              "      <td>Usei ela algumas vezes já, muito silenciosa, l...</td>\n",
              "      <td>POS</td>\n",
              "    </tr>\n",
              "    <tr>\n",
              "      <th>6</th>\n",
              "      <td>182</td>\n",
              "      <td>Superou minhas expectativas, por enquanto tudo...</td>\n",
              "      <td>POS</td>\n",
              "    </tr>\n",
              "    <tr>\n",
              "      <th>7</th>\n",
              "      <td>815</td>\n",
              "      <td>Chegou no prazo. Amei, é muito linda. Não vejo...</td>\n",
              "      <td>POS</td>\n",
              "    </tr>\n",
              "    <tr>\n",
              "      <th>8</th>\n",
              "      <td>343</td>\n",
              "      <td>Estou muito satisfeito com a negociação, receb...</td>\n",
              "      <td>POS</td>\n",
              "    </tr>\n",
              "    <tr>\n",
              "      <th>9</th>\n",
              "      <td>624</td>\n",
              "      <td>Lindaaaa amei super indico</td>\n",
              "      <td>POS</td>\n",
              "    </tr>\n",
              "    <tr>\n",
              "      <th>10</th>\n",
              "      <td>365</td>\n",
              "      <td>A fritadeira é ok, mas desde os primeiros dias...</td>\n",
              "      <td>NEG</td>\n",
              "    </tr>\n",
              "    <tr>\n",
              "      <th>11</th>\n",
              "      <td>543</td>\n",
              "      <td>O produto em si é bom, porém oxida, infelizmen...</td>\n",
              "      <td>NEG</td>\n",
              "    </tr>\n",
              "    <tr>\n",
              "      <th>12</th>\n",
              "      <td>62</td>\n",
              "      <td>Infelizmente começa a enferrujar do nada. pelo...</td>\n",
              "      <td>NEG</td>\n",
              "    </tr>\n",
              "    <tr>\n",
              "      <th>13</th>\n",
              "      <td>690</td>\n",
              "      <td>Beleza, mas não muito eficaz como na propaganda</td>\n",
              "      <td>NEU</td>\n",
              "    </tr>\n",
              "    <tr>\n",
              "      <th>14</th>\n",
              "      <td>909</td>\n",
              "      <td>Comprei o produto de uma marca mais confiável,...</td>\n",
              "      <td>NEG</td>\n",
              "    </tr>\n",
              "    <tr>\n",
              "      <th>15</th>\n",
              "      <td>766</td>\n",
              "      <td>Com 5 meses de uso percebi que tinha locais en...</td>\n",
              "      <td>NEG</td>\n",
              "    </tr>\n",
              "    <tr>\n",
              "      <th>16</th>\n",
              "      <td>614</td>\n",
              "      <td>Horrível! Começou a enferrujar a parte externa...</td>\n",
              "      <td>NEG</td>\n",
              "    </tr>\n",
              "    <tr>\n",
              "      <th>17</th>\n",
              "      <td>452</td>\n",
              "      <td>Gostei, só que não está com 3 meses e ela já e...</td>\n",
              "      <td>NEU</td>\n",
              "    </tr>\n",
              "    <tr>\n",
              "      <th>18</th>\n",
              "      <td>735</td>\n",
              "      <td>Além de enferrujar, estourou o vidro do nada</td>\n",
              "      <td>NEG</td>\n",
              "    </tr>\n",
              "    <tr>\n",
              "      <th>19</th>\n",
              "      <td>135</td>\n",
              "      <td>O aparelho é bom e funciona bem, mas o acabame...</td>\n",
              "      <td>NEG</td>\n",
              "    </tr>\n",
              "    <tr>\n",
              "      <th>20</th>\n",
              "      <td>395</td>\n",
              "      <td>Ruim!!!Enferruja rápido. Até na tampa, onde em...</td>\n",
              "      <td>NEU</td>\n",
              "    </tr>\n",
              "    <tr>\n",
              "      <th>21</th>\n",
              "      <td>987</td>\n",
              "      <td>O produto em si é bom, mas com um mês de uso r...</td>\n",
              "      <td>NEG</td>\n",
              "    </tr>\n",
              "    <tr>\n",
              "      <th>22</th>\n",
              "      <td>504</td>\n",
              "      <td>Realmente, para assar ela é maravilhosa, entre...</td>\n",
              "      <td>NEG</td>\n",
              "    </tr>\n",
              "    <tr>\n",
              "      <th>23</th>\n",
              "      <td>405</td>\n",
              "      <td>Conforme relatado por outras pessoas, o acabam...</td>\n",
              "      <td>NEG</td>\n",
              "    </tr>\n",
              "    <tr>\n",
              "      <th>24</th>\n",
              "      <td>647</td>\n",
              "      <td>Com o tempo vai ficando feia. A aparencia, o i...</td>\n",
              "      <td>NEG</td>\n",
              "    </tr>\n",
              "    <tr>\n",
              "      <th>25</th>\n",
              "      <td>503</td>\n",
              "      <td>Estou totalmente decepcionada com esta compra.</td>\n",
              "      <td>NEG</td>\n",
              "    </tr>\n",
              "    <tr>\n",
              "      <th>26</th>\n",
              "      <td>123</td>\n",
              "      <td>Material horrível, arrependido dessa compra. N...</td>\n",
              "      <td>NEG</td>\n",
              "    </tr>\n",
              "    <tr>\n",
              "      <th>27</th>\n",
              "      <td>771</td>\n",
              "      <td>Produto com 4 meses de uso enferrujou, na hora...</td>\n",
              "      <td>NEG</td>\n",
              "    </tr>\n",
              "    <tr>\n",
              "      <th>28</th>\n",
              "      <td>121</td>\n",
              "      <td>Não recomendo esse aparelho! Atende bem as fun...</td>\n",
              "      <td>NEG</td>\n",
              "    </tr>\n",
              "    <tr>\n",
              "      <th>29</th>\n",
              "      <td>437</td>\n",
              "      <td>Ela pode ser boa, mas a qualidade do material ...</td>\n",
              "      <td>NEG</td>\n",
              "    </tr>\n",
              "    <tr>\n",
              "      <th>30</th>\n",
              "      <td>847</td>\n",
              "      <td>Linda em design, ótimos funcionamento, porém o...</td>\n",
              "      <td>NEG</td>\n",
              "    </tr>\n",
              "    <tr>\n",
              "      <th>31</th>\n",
              "      <td>47</td>\n",
              "      <td>Achei bem boa e super fácil de usar! Recomendo</td>\n",
              "      <td>POS</td>\n",
              "    </tr>\n",
              "    <tr>\n",
              "      <th>32</th>\n",
              "      <td>462</td>\n",
              "      <td>Muito boa! Me ajuda muito, não precisamos vira...</td>\n",
              "      <td>POS</td>\n",
              "    </tr>\n",
              "    <tr>\n",
              "      <th>33</th>\n",
              "      <td>21</td>\n",
              "      <td>Aparelho bom, mas a sua tampa enferrujou muito...</td>\n",
              "      <td>NEU</td>\n",
              "    </tr>\n",
              "    <tr>\n",
              "      <th>34</th>\n",
              "      <td>202</td>\n",
              "      <td>Estou usando há 10 dias, funciona muito bem at...</td>\n",
              "      <td>POS</td>\n",
              "    </tr>\n",
              "    <tr>\n",
              "      <th>35</th>\n",
              "      <td>284</td>\n",
              "      <td>Design moderno, excelente a proposta dupla de ...</td>\n",
              "      <td>POS</td>\n",
              "    </tr>\n",
              "  </tbody>\n",
              "</table>\n",
              "</div>"
            ],
            "text/plain": [
              "     ID                                            Resenha Sentimento\n",
              "0    24  A fritadeira é sensacional, muito além do que ...        POS\n",
              "1   733  Após usar o produto, achei-o fácil e muito efi...        POS\n",
              "2   865                Muito funcional, prática e moderna.        POS\n",
              "3   809  Boa, mas não das melhores pois a frente de vid...        NEG\n",
              "4   628  Eu comecei a usar e é bem espaçosa. Gostei poi...        POS\n",
              "5   657  Usei ela algumas vezes já, muito silenciosa, l...        POS\n",
              "6   182  Superou minhas expectativas, por enquanto tudo...        POS\n",
              "7   815  Chegou no prazo. Amei, é muito linda. Não vejo...        POS\n",
              "8   343  Estou muito satisfeito com a negociação, receb...        POS\n",
              "9   624                         Lindaaaa amei super indico        POS\n",
              "10  365  A fritadeira é ok, mas desde os primeiros dias...        NEG\n",
              "11  543  O produto em si é bom, porém oxida, infelizmen...        NEG\n",
              "12   62  Infelizmente começa a enferrujar do nada. pelo...        NEG\n",
              "13  690    Beleza, mas não muito eficaz como na propaganda        NEU\n",
              "14  909  Comprei o produto de uma marca mais confiável,...        NEG\n",
              "15  766  Com 5 meses de uso percebi que tinha locais en...        NEG\n",
              "16  614  Horrível! Começou a enferrujar a parte externa...        NEG\n",
              "17  452  Gostei, só que não está com 3 meses e ela já e...        NEU\n",
              "18  735       Além de enferrujar, estourou o vidro do nada        NEG\n",
              "19  135  O aparelho é bom e funciona bem, mas o acabame...        NEG\n",
              "20  395  Ruim!!!Enferruja rápido. Até na tampa, onde em...        NEU\n",
              "21  987  O produto em si é bom, mas com um mês de uso r...        NEG\n",
              "22  504  Realmente, para assar ela é maravilhosa, entre...        NEG\n",
              "23  405  Conforme relatado por outras pessoas, o acabam...        NEG\n",
              "24  647  Com o tempo vai ficando feia. A aparencia, o i...        NEG\n",
              "25  503     Estou totalmente decepcionada com esta compra.        NEG\n",
              "26  123  Material horrível, arrependido dessa compra. N...        NEG\n",
              "27  771  Produto com 4 meses de uso enferrujou, na hora...        NEG\n",
              "28  121  Não recomendo esse aparelho! Atende bem as fun...        NEG\n",
              "29  437  Ela pode ser boa, mas a qualidade do material ...        NEG\n",
              "30  847  Linda em design, ótimos funcionamento, porém o...        NEG\n",
              "31   47     Achei bem boa e super fácil de usar! Recomendo        POS\n",
              "32  462  Muito boa! Me ajuda muito, não precisamos vira...        POS\n",
              "33   21  Aparelho bom, mas a sua tampa enferrujou muito...        NEU\n",
              "34  202  Estou usando há 10 dias, funciona muito bem at...        POS\n",
              "35  284  Design moderno, excelente a proposta dupla de ...        POS"
            ]
          },
          "execution_count": 19,
          "metadata": {},
          "output_type": "execute_result"
        }
      ],
      "source": [
        "dados"
      ]
    },
    {
      "cell_type": "code",
      "execution_count": null,
      "metadata": {},
      "outputs": [],
      "source": []
    }
  ],
  "metadata": {
    "colab": {
      "provenance": []
    },
    "kernelspec": {
      "display_name": "alura_hugging_face",
      "language": "python",
      "name": "python3"
    },
    "language_info": {
      "codemirror_mode": {
        "name": "ipython",
        "version": 3
      },
      "file_extension": ".py",
      "mimetype": "text/x-python",
      "name": "python",
      "nbconvert_exporter": "python",
      "pygments_lexer": "ipython3",
      "version": "3.11.11"
    }
  },
  "nbformat": 4,
  "nbformat_minor": 0
}
